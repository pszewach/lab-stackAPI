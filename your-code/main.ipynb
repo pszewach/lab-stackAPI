{
 "cells": [
  {
   "cell_type": "markdown",
   "metadata": {},
   "source": [
    "# StackAPI\n",
    "\n",
    "#### Import the necessary libraries here:"
   ]
  },
  {
   "cell_type": "code",
   "execution_count": 7,
   "metadata": {},
   "outputs": [],
   "source": [
    "from stackapi import StackAPI\n",
    "import datetime\n",
    "# read documentation here https://stackapi.readthedocs.io/en/latest/"
   ]
  },
  {
   "cell_type": "markdown",
   "metadata": {},
   "source": [
    "#### Question 1: Find the questions and answers of last month."
   ]
  },
  {
   "cell_type": "code",
   "execution_count": 8,
   "metadata": {},
   "outputs": [],
   "source": [
    "SITE = StackAPI('stackoverflow')\n",
    "questions = SITE.fetch('questions', fromdate=datetime.datetime(2019, 10, 1), todate=datetime.datetime(2019, 10, 31))\n",
    "\n",
    "answers = SITE.fetch('answers', fromdate=datetime.datetime(2019, 10, 1), todate=datetime.datetime(2019, 10, 31))\n"
   ]
  },
  {
   "cell_type": "markdown",
   "metadata": {},
   "source": [
    "#### Question 2: Find the most voted question today with at least a score of 5 and tagged with 'python'. "
   ]
  },
  {
   "cell_type": "code",
   "execution_count": 10,
   "metadata": {},
   "outputs": [],
   "source": [
    "SITE.page_size = 1\n",
    "SITE.max_pages = 1"
   ]
  },
  {
   "cell_type": "code",
   "execution_count": 11,
   "metadata": {},
   "outputs": [
    {
     "data": {
      "text/plain": [
       "datetime.datetime(2019, 11, 8, 19, 40, 24, 238161)"
      ]
     },
     "execution_count": 11,
     "metadata": {},
     "output_type": "execute_result"
    }
   ],
   "source": [
    "from datetime import datetime\n",
    "datetime.now()"
   ]
  },
  {
   "cell_type": "code",
   "execution_count": 14,
   "metadata": {},
   "outputs": [
    {
     "data": {
      "text/plain": [
       "{'backoff': 0,\n",
       " 'has_more': False,\n",
       " 'items': [],\n",
       " 'page': 1,\n",
       " 'quota_max': 300,\n",
       " 'quota_remaining': 300,\n",
       " 'total': 0}"
      ]
     },
     "execution_count": 14,
     "metadata": {},
     "output_type": "execute_result"
    }
   ],
   "source": [
    "SITE = StackAPI('stackoverflow')\n",
    "questions = SITE.fetch('questions', fromdate=datetime(2019, 11, 8, 0, 0,0), todate=datetime(2019, 11, 8,23,59,59),\n",
    "min=5, tagged='python', sort='votes')\n",
    "questions"
   ]
  },
  {
   "cell_type": "code",
   "execution_count": null,
   "metadata": {},
   "outputs": [],
   "source": []
  },
  {
   "cell_type": "markdown",
   "metadata": {},
   "source": [
    "#### Question 3: Find the answers with id 6784 and 6473."
   ]
  },
  {
   "cell_type": "code",
   "execution_count": 15,
   "metadata": {},
   "outputs": [
    {
     "data": {
      "text/plain": [
       "{'backoff': 0,\n",
       " 'has_more': False,\n",
       " 'items': [{'award_count': 1,\n",
       "   'badge_id': 6784,\n",
       "   'badge_type': 'tag_based',\n",
       "   'link': 'https://stackoverflow.com/badges/6784/asterisk',\n",
       "   'name': 'asterisk',\n",
       "   'rank': 'silver'},\n",
       "  {'award_count': 1,\n",
       "   'badge_id': 6473,\n",
       "   'badge_type': 'tag_based',\n",
       "   'link': 'https://stackoverflow.com/badges/6473/sql-server-2012',\n",
       "   'name': 'sql-server-2012',\n",
       "   'rank': 'gold'}],\n",
       " 'page': 1,\n",
       " 'quota_max': 300,\n",
       " 'quota_remaining': 300,\n",
       " 'total': 0}"
      ]
     },
     "execution_count": 15,
     "metadata": {},
     "output_type": "execute_result"
    }
   ],
   "source": [
    "# your code here\n",
    "\n",
    "from stackapi import StackAPI\n",
    "SITE = StackAPI('stackoverflow')\n",
    "badges = SITE.fetch('badges', ids=[6784, 6473])\n",
    "badges"
   ]
  },
  {
   "cell_type": "code",
   "execution_count": null,
   "metadata": {},
   "outputs": [],
   "source": []
  }
 ],
 "metadata": {
  "kernelspec": {
   "display_name": "Python 3",
   "language": "python",
   "name": "python3"
  },
  "language_info": {
   "codemirror_mode": {
    "name": "ipython",
    "version": 3
   },
   "file_extension": ".py",
   "mimetype": "text/x-python",
   "name": "python",
   "nbconvert_exporter": "python",
   "pygments_lexer": "ipython3",
   "version": "3.6.4"
  }
 },
 "nbformat": 4,
 "nbformat_minor": 2
}
